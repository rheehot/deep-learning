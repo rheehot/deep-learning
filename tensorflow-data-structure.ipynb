{
 "cells": [
  {
   "cell_type": "markdown",
   "metadata": {},
   "source": [
    "# 텐서플로우 자료구조\n",
    "\n",
    "일반 상대성이론(general relativity) 전문가인 \"Lillian Lieber\"는 텐서(tensor)를 \"Facts of the Universe\"라고 지칭했다. 구글브레인(google brain)에서 그래프기반 수치연산(Graph-based Numerical Computation)을 위한 오픈소스 라이브러리로 [텐서플로우(tensorflow)](https://www.tensorflow.org/)를 공개했으며 2019년 Tensorflow 2.0를 공개하였는데 Eager Execution, 케라드, Estimators이 추가되었다.\n",
    "\n",
    "텐서는 벡터와 행렬을 일반화한 것으로 숫자의 집합이라고 볼 수 있다. 행렬은 2-D 격자위에 놓은 숫자 집합으로 간주할 수 있는 반면 **텐서(tensor)** 는 일반화된 행렬로 생각할 수 있다. \n",
    "\n",
    "<img src=\"fig/tensor.jpg\" alt=\"텐서\" width=\"57%\" />\n",
    "\n",
    "- 참고자료\n",
    "    - [Dan Fleisch, \"What's a Tensor?\", Youtube](https://www.youtube.com/watch?v=f5liqUk0ZTw)\n",
    "    - [Manish Thapliyal (Jul 22, 2018), \"Machine Learning Basics : Scalars, Vectors, Matrices and Tensors\", medium](https://medium.com/@manish54.thapliyal/machine-learning-basics-scalars-vectors-matrices-and-tensors-e120ecd0e6f7)\n",
    "    - [Steven Steinke (Aug 28, 2017), \"What’s the difference between a matrix and a tensor?\"](https://medium.com/@quantumsteinke/whats-the-difference-between-a-matrix-and-a-tensor-4505fbdc576c)"
   ]
  },
  {
   "cell_type": "markdown",
   "metadata": {},
   "source": [
    "# 텐서플로우 도구로 텐서 정의\n",
    "\n",
    "- 참고자료\n",
    "    - [Tensorflow, \"즉시 실행 기초\"](https://www.tensorflow.org/tutorials/eager/eager_basics?hl=ko)"
   ]
  },
  {
   "cell_type": "markdown",
   "metadata": {},
   "source": [
    "## 텐서 정의"
   ]
  },
  {
   "cell_type": "code",
   "execution_count": 39,
   "metadata": {},
   "outputs": [
    {
     "ename": "ValueError",
     "evalue": "tf.enable_eager_execution must be called at program startup.",
     "output_type": "error",
     "traceback": [
      "\u001b[1;31m---------------------------------------------------------------------------\u001b[0m",
      "\u001b[1;31mValueError\u001b[0m                                Traceback (most recent call last)",
      "\u001b[1;32m<ipython-input-39-0971015310a2>\u001b[0m in \u001b[0;36m<module>\u001b[1;34m\u001b[0m\n\u001b[0;32m      1\u001b[0m \u001b[1;32mfrom\u001b[0m \u001b[0m__future__\u001b[0m \u001b[1;32mimport\u001b[0m \u001b[0mabsolute_import\u001b[0m\u001b[1;33m,\u001b[0m \u001b[0mdivision\u001b[0m\u001b[1;33m,\u001b[0m \u001b[0mprint_function\u001b[0m\u001b[1;33m\u001b[0m\u001b[1;33m\u001b[0m\u001b[0m\n\u001b[0;32m      2\u001b[0m \u001b[1;32mimport\u001b[0m \u001b[0mtensorflow\u001b[0m \u001b[1;32mas\u001b[0m \u001b[0mtf\u001b[0m\u001b[1;33m\u001b[0m\u001b[1;33m\u001b[0m\u001b[0m\n\u001b[1;32m----> 3\u001b[1;33m \u001b[0mtf\u001b[0m\u001b[1;33m.\u001b[0m\u001b[0menable_eager_execution\u001b[0m\u001b[1;33m(\u001b[0m\u001b[1;33m)\u001b[0m\u001b[1;33m\u001b[0m\u001b[1;33m\u001b[0m\u001b[0m\n\u001b[0m\u001b[0;32m      4\u001b[0m \u001b[1;33m\u001b[0m\u001b[0m\n\u001b[0;32m      5\u001b[0m \u001b[0mtf_0d\u001b[0m \u001b[1;33m=\u001b[0m \u001b[0mtf\u001b[0m\u001b[1;33m.\u001b[0m\u001b[0mones\u001b[0m\u001b[1;33m(\u001b[0m\u001b[1;33m(\u001b[0m\u001b[1;36m1\u001b[0m\u001b[1;33m,\u001b[0m\u001b[1;33m)\u001b[0m\u001b[1;33m)\u001b[0m\u001b[1;33m\u001b[0m\u001b[1;33m\u001b[0m\u001b[0m\n",
      "\u001b[1;32mc:\\users\\statkclee\\anaconda3\\lib\\site-packages\\tensorflow\\python\\framework\\ops.py\u001b[0m in \u001b[0;36menable_eager_execution\u001b[1;34m(config, device_policy, execution_mode)\u001b[0m\n\u001b[0;32m   5876\u001b[0m         \u001b[0mdevice_policy\u001b[0m\u001b[1;33m=\u001b[0m\u001b[0mdevice_policy\u001b[0m\u001b[1;33m,\u001b[0m\u001b[1;33m\u001b[0m\u001b[1;33m\u001b[0m\u001b[0m\n\u001b[0;32m   5877\u001b[0m         \u001b[0mexecution_mode\u001b[0m\u001b[1;33m=\u001b[0m\u001b[0mexecution_mode\u001b[0m\u001b[1;33m,\u001b[0m\u001b[1;33m\u001b[0m\u001b[1;33m\u001b[0m\u001b[0m\n\u001b[1;32m-> 5878\u001b[1;33m         server_def=None)\n\u001b[0m\u001b[0;32m   5879\u001b[0m \u001b[1;33m\u001b[0m\u001b[0m\n\u001b[0;32m   5880\u001b[0m \u001b[1;33m\u001b[0m\u001b[0m\n",
      "\u001b[1;32mc:\\users\\statkclee\\anaconda3\\lib\\site-packages\\tensorflow\\python\\framework\\ops.py\u001b[0m in \u001b[0;36menable_eager_execution_internal\u001b[1;34m(config, device_policy, execution_mode, server_def)\u001b[0m\n\u001b[0;32m   5934\u001b[0m     \u001b[1;32mif\u001b[0m \u001b[0mgraph_mode_has_been_used\u001b[0m\u001b[1;33m:\u001b[0m\u001b[1;33m\u001b[0m\u001b[1;33m\u001b[0m\u001b[0m\n\u001b[0;32m   5935\u001b[0m       raise ValueError(\n\u001b[1;32m-> 5936\u001b[1;33m           \"tf.enable_eager_execution must be called at program startup.\")\n\u001b[0m\u001b[0;32m   5937\u001b[0m   \u001b[0mcontext\u001b[0m\u001b[1;33m.\u001b[0m\u001b[0mdefault_execution_mode\u001b[0m \u001b[1;33m=\u001b[0m \u001b[0mcontext\u001b[0m\u001b[1;33m.\u001b[0m\u001b[0mEAGER_MODE\u001b[0m\u001b[1;33m\u001b[0m\u001b[1;33m\u001b[0m\u001b[0m\n\u001b[0;32m   5938\u001b[0m   \u001b[1;31m# pylint: disable=protected-access\u001b[0m\u001b[1;33m\u001b[0m\u001b[1;33m\u001b[0m\u001b[1;33m\u001b[0m\u001b[0m\n",
      "\u001b[1;31mValueError\u001b[0m: tf.enable_eager_execution must be called at program startup."
     ]
    }
   ],
   "source": [
    "from __future__ import absolute_import, division, print_function\n",
    "import tensorflow as tf\n",
    "\n",
    "tf_0d = tf.ones((1,))\n",
    "tf_0d"
   ]
  },
  {
   "cell_type": "code",
   "execution_count": null,
   "metadata": {},
   "outputs": [],
   "source": [
    "tf_1d = tf.ones((2,))\n",
    "tf_1d"
   ]
  },
  {
   "cell_type": "code",
   "execution_count": null,
   "metadata": {},
   "outputs": [],
   "source": [
    "tf_2d = tf.ones((2,2))\n",
    "tf_2d"
   ]
  },
  {
   "cell_type": "code",
   "execution_count": null,
   "metadata": {},
   "outputs": [],
   "source": [
    "tf_3d = tf.ones((2,2,2))\n",
    "tf_3d"
   ]
  },
  {
   "cell_type": "markdown",
   "metadata": {},
   "source": [
    "## 상수(constant) 정의\n",
    "\n",
    "넘파이(numpy)와 마찬가지로 상수를 정의하는데 유용한 함수가 다수 지원된다.\n",
    "\n",
    "|      연산자        |     사례        |\n",
    "|:------------------|:-----------------|\n",
    "| tf.constant()    | constant([1, 2, 3]) |\n",
    "| tf.zeros()       | zeros([2, 2]) |\n",
    "| tf.zeros_like()  | zeros_like(input_tensor) |\n",
    "| tf.ones()        | ones([2, 2]) |\n",
    "| tf.ones_like()   | ones_like(input_tensor) |\n",
    "| tf.fill()        | fill([3, 3], 7) |"
   ]
  },
  {
   "cell_type": "code",
   "execution_count": null,
   "metadata": {},
   "outputs": [],
   "source": [
    "from tensorflow import constant\n",
    "\n",
    "x = constant(3, shape=[2,3])\n",
    "print(x)"
   ]
  },
  {
   "cell_type": "code",
   "execution_count": null,
   "metadata": {},
   "outputs": [],
   "source": [
    "y = constant([1,2,3,4], shape=[2,2])\n",
    "y"
   ]
  },
  {
   "cell_type": "markdown",
   "metadata": {},
   "source": [
    "## 변수(variable) 정의"
   ]
  },
  {
   "cell_type": "code",
   "execution_count": null,
   "metadata": {},
   "outputs": [],
   "source": [
    "# 변수 정의\n",
    "x = tf.Variable([1, 2, 3, 4, 5, 6], dtype=tf.float32)\n",
    "y = tf.Variable([1, 2, 3, 4, 5, 6], dtype=tf.int16)\n",
    "\n",
    "# 상수, 회귀계수 정의\n",
    "coef = tf.constant(5, tf.float32)\n",
    "# 회귀계수와 X 곱\n",
    "y_hat = tf.multiply(x, coef)\n",
    "print(\".numpy() 메서드는 텐서를 넘파이 배열로 변환합니다.\")\n",
    "# print(y_hat.numpy())"
   ]
  },
  {
   "cell_type": "code",
   "execution_count": null,
   "metadata": {},
   "outputs": [],
   "source": [
    "import time\n",
    "\n",
    "def time_matmul(x):\n",
    "  start = time.time()\n",
    "  for loop in range(100):\n",
    "    tf.matmul(x, x)\n",
    "\n",
    "  result = time.time()-start\n",
    "    \n",
    "  print(\"10 loops: {:0.2f}ms\".format(1000*result))\n",
    "\n",
    "\n",
    "# CPU에서 강제실행합니다.\n",
    "print(\"On CPU:\")\n",
    "with tf.device(\"CPU:0\"):\n",
    "  x = tf.random_uniform([1000, 1000])\n",
    "  assert x.device.endswith(\"CPU:0\")\n",
    "  time_matmul(x)\n",
    "\n",
    "# GPU #0가 이용가능시 GPU #0에서 강제실행합니다.\n",
    "print(\"On GPU:\")\n",
    "if tf.test.is_gpu_available():\n",
    "  with tf.device(\"GPU:0\"): # 또는 GPU:1, GPU:2\n",
    "    x = tf.random_uniform([1000, 1000])\n",
    "    assert x.device.endswith(\"GPU:0\")\n",
    "    time_matmul(x)"
   ]
  },
  {
   "cell_type": "code",
   "execution_count": null,
   "metadata": {},
   "outputs": [],
   "source": [
    "print(tf.test.is_gpu_available(cuda_only=False, min_cuda_compute_capability=None))"
   ]
  },
  {
   "cell_type": "code",
   "execution_count": null,
   "metadata": {},
   "outputs": [],
   "source": [
    "tf.test.is_gpu_available()"
   ]
  },
  {
   "cell_type": "code",
   "execution_count": null,
   "metadata": {},
   "outputs": [],
   "source": []
  }
 ],
 "metadata": {
  "kernelspec": {
   "display_name": "Python 3",
   "language": "python",
   "name": "python3"
  },
  "language_info": {
   "codemirror_mode": {
    "name": "ipython",
    "version": 3
   },
   "file_extension": ".py",
   "mimetype": "text/x-python",
   "name": "python",
   "nbconvert_exporter": "python",
   "pygments_lexer": "ipython3",
   "version": "3.6.7"
  },
  "toc": {
   "base_numbering": 1,
   "nav_menu": {},
   "number_sections": true,
   "sideBar": true,
   "skip_h1_title": false,
   "title_cell": "Table of Contents",
   "title_sidebar": "Contents",
   "toc_cell": false,
   "toc_position": {},
   "toc_section_display": true,
   "toc_window_display": false
  }
 },
 "nbformat": 4,
 "nbformat_minor": 2
}
