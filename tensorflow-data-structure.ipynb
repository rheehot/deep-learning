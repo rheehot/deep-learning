{
 "cells": [
  {
   "cell_type": "markdown",
   "metadata": {},
   "source": [
    "# 텐서플로우 자료구조\n",
    "\n",
    "일반 상대성이론(general relativity) 전문가인 \"Lillian Lieber\"는 텐서(tensor)를 \"Facts of the Universe\"라고 지칭했다. 구글브레인(google brain)에서 그래프기반 수치연산(Graph-based Numerical Computation)을 위한 오픈소스 라이브러리로 [텐서플로우(tensorflow)](https://www.tensorflow.org/)를 공개했으며 2019년 Tensorflow 2.0를 공개하였는데 Eager Execution, 케라드, Estimators이 추가되었다.\n",
    "\n",
    "텐서는 벡터와 행렬을 일반화한 것으로 숫자의 집합이라고 볼 수 있다. 행렬은 2-D 격자위에 놓은 숫자 집합으로 간주할 수 있는 반면 **텐서(tensor)** 는 일반화된 행렬로 생각할 수 있다. \n",
    "\n",
    "<img src=\"fig/tensor.jpg\" alt=\"텐서\" width=\"57%\" />\n",
    "\n",
    "- 참고자료\n",
    "    - [Dan Fleisch, \"What's a Tensor?\", Youtube](https://www.youtube.com/watch?v=f5liqUk0ZTw)\n",
    "    - [Manish Thapliyal (Jul 22, 2018), \"Machine Learning Basics : Scalars, Vectors, Matrices and Tensors\", medium](https://medium.com/@manish54.thapliyal/machine-learning-basics-scalars-vectors-matrices-and-tensors-e120ecd0e6f7)\n",
    "    - [Steven Steinke (Aug 28, 2017), \"What’s the difference between a matrix and a tensor?\"](https://medium.com/@quantumsteinke/whats-the-difference-between-a-matrix-and-a-tensor-4505fbdc576c)"
   ]
  },
  {
   "cell_type": "markdown",
   "metadata": {},
   "source": [
    "## CPU vs GPU 속도 비교\n",
    "\n",
    "- 참고자료\n",
    "    - [Tensorflow, \"즉시 실행 기초\"](https://www.tensorflow.org/tutorials/eager/eager_basics?hl=ko)"
   ]
  },
  {
   "cell_type": "code",
   "execution_count": 1,
   "metadata": {},
   "outputs": [
    {
     "name": "stdout",
     "output_type": "stream",
     "text": [
      "On CPU:\n",
      "10 loops: 88.50ms\n",
      "On GPU:\n"
     ]
    }
   ],
   "source": [
    "from __future__ import absolute_import, division, print_function\n",
    "import utils\n",
    "import tensorflow as tf\n",
    "tf.enable_eager_execution()\n",
    "\n",
    "import time\n",
    "\n",
    "def time_matmul(x):\n",
    "  start = time.time()\n",
    "  for loop in range(10):\n",
    "    tf.matmul(x, x)\n",
    "\n",
    "  result = time.time()-start\n",
    "    \n",
    "  print(\"10 loops: {:0.2f}ms\".format(1000*result))\n",
    "\n",
    "\n",
    "# CPU에서 강제실행합니다.\n",
    "print(\"On CPU:\")\n",
    "with tf.device(\"CPU:0\"):\n",
    "  x = tf.random_uniform([1000, 1000])\n",
    "  assert x.device.endswith(\"CPU:0\")\n",
    "  time_matmul(x)\n",
    "\n",
    "# GPU #0가 이용가능시 GPU #0에서 강제실행합니다.\n",
    "print(\"On GPU:\")\n",
    "# if tf.test.is_gpu_available():\n",
    "#   with tf.device(\"GPU:0\"): # 또는 GPU:1, GPU:2\n",
    "#     x = tf.random_uniform([1000, 1000])\n",
    "#     assert x.device.endswith(\"GPU:0\")\n",
    "#     time_matmul(x)"
   ]
  },
  {
   "cell_type": "markdown",
   "metadata": {},
   "source": [
    "# 텐서플로우 도구로 텐서 정의\n",
    "\n"
   ]
  },
  {
   "cell_type": "markdown",
   "metadata": {},
   "source": [
    "## 텐서 정의"
   ]
  },
  {
   "cell_type": "code",
   "execution_count": 2,
   "metadata": {
    "scrolled": true
   },
   "outputs": [
    {
     "data": {
      "text/plain": [
       "<tf.Tensor: id=19, shape=(1,), dtype=float32, numpy=array([1.], dtype=float32)>"
      ]
     },
     "execution_count": 2,
     "metadata": {},
     "output_type": "execute_result"
    }
   ],
   "source": [
    "tf_0d = tf.ones((1,))\n",
    "tf_0d"
   ]
  },
  {
   "cell_type": "code",
   "execution_count": 3,
   "metadata": {},
   "outputs": [
    {
     "data": {
      "text/plain": [
       "<tf.Tensor: id=23, shape=(2,), dtype=float32, numpy=array([1., 1.], dtype=float32)>"
      ]
     },
     "execution_count": 3,
     "metadata": {},
     "output_type": "execute_result"
    }
   ],
   "source": [
    "tf_1d = tf.ones((2,))\n",
    "tf_1d"
   ]
  },
  {
   "cell_type": "code",
   "execution_count": 4,
   "metadata": {},
   "outputs": [
    {
     "data": {
      "text/plain": [
       "<tf.Tensor: id=27, shape=(2, 2), dtype=float32, numpy=\n",
       "array([[1., 1.],\n",
       "       [1., 1.]], dtype=float32)>"
      ]
     },
     "execution_count": 4,
     "metadata": {},
     "output_type": "execute_result"
    }
   ],
   "source": [
    "tf_2d = tf.ones((2,2))\n",
    "tf_2d"
   ]
  },
  {
   "cell_type": "code",
   "execution_count": 5,
   "metadata": {},
   "outputs": [
    {
     "data": {
      "text/plain": [
       "<tf.Tensor: id=31, shape=(2, 2, 2), dtype=float32, numpy=\n",
       "array([[[1., 1.],\n",
       "        [1., 1.]],\n",
       "\n",
       "       [[1., 1.],\n",
       "        [1., 1.]]], dtype=float32)>"
      ]
     },
     "execution_count": 5,
     "metadata": {},
     "output_type": "execute_result"
    }
   ],
   "source": [
    "tf_3d = tf.ones((2,2,2))\n",
    "tf_3d"
   ]
  },
  {
   "cell_type": "markdown",
   "metadata": {},
   "source": [
    "## 상수(constant) 정의\n",
    "\n",
    "넘파이(numpy)와 마찬가지로 상수를 정의하는데 유용한 함수가 다수 지원된다.\n",
    "\n",
    "|      연산자        |     사례        |\n",
    "|:------------------|:-----------------|\n",
    "| tf.constant()    | constant([1, 2, 3]) |\n",
    "| tf.zeros()       | zeros([2, 2]) |\n",
    "| tf.zeros_like()  | zeros_like(input_tensor) |\n",
    "| tf.ones()        | ones([2, 2]) |\n",
    "| tf.ones_like()   | ones_like(input_tensor) |\n",
    "| tf.fill()        | fill([3, 3], 7) |"
   ]
  },
  {
   "cell_type": "code",
   "execution_count": 6,
   "metadata": {},
   "outputs": [
    {
     "name": "stdout",
     "output_type": "stream",
     "text": [
      "tf.Tensor(\n",
      "[[3 3 3]\n",
      " [3 3 3]], shape=(2, 3), dtype=int32)\n"
     ]
    }
   ],
   "source": [
    "from tensorflow import constant\n",
    "\n",
    "x = constant(3, shape=[2,3])\n",
    "print(x)"
   ]
  },
  {
   "cell_type": "code",
   "execution_count": 7,
   "metadata": {},
   "outputs": [
    {
     "data": {
      "text/plain": [
       "<tf.Tensor: id=39, shape=(2, 2), dtype=int32, numpy=\n",
       "array([[1, 2],\n",
       "       [3, 4]])>"
      ]
     },
     "execution_count": 7,
     "metadata": {},
     "output_type": "execute_result"
    }
   ],
   "source": [
    "y = constant([1,2,3,4], shape=[2,2])\n",
    "y"
   ]
  },
  {
   "cell_type": "markdown",
   "metadata": {},
   "source": [
    "## 변수(variable) 정의"
   ]
  },
  {
   "cell_type": "code",
   "execution_count": 8,
   "metadata": {},
   "outputs": [
    {
     "name": "stdout",
     "output_type": "stream",
     "text": [
      "tf.Tensor([ -4.  -8. -12. -16. -20. -24.], shape=(6,), dtype=float32)\n"
     ]
    }
   ],
   "source": [
    "# 변수 정의\n",
    "x = tf.Variable([1, 2, 3, 4, 5, 6], dtype=tf.float32)\n",
    "y = tf.Variable([1, 2, 3, 4, 5, 6], dtype=tf.float32)\n",
    "\n",
    "# 상수, 회귀계수 정의\n",
    "coef = tf.constant(5, tf.float32)\n",
    "# 회귀계수와 X 곱\n",
    "y_hat = tf.multiply(x, coef)\n",
    "\n",
    "# 오차\n",
    "error = tf.subtract(y, y_hat)\n",
    "print(error)"
   ]
  },
  {
   "cell_type": "markdown",
   "metadata": {},
   "source": [
    "## 연산\n",
    "\n",
    "스칼라 0-D 텐서와 벡터 1-D 텐서, 행렬 2-D 텐서 연산을 수행해 보자. 각 원소별로 덧셈을 추가한다. "
   ]
  },
  {
   "cell_type": "code",
   "execution_count": 9,
   "metadata": {
    "scrolled": true
   },
   "outputs": [
    {
     "name": "stdout",
     "output_type": "stream",
     "text": [
      "[3]\n"
     ]
    }
   ],
   "source": [
    "A_T0 = constant([1])\n",
    "B_T0 = constant([2])\n",
    "\n",
    "T0 = tf.add(A_T0, B_T0)\n",
    "print(T0.numpy())"
   ]
  },
  {
   "cell_type": "code",
   "execution_count": 10,
   "metadata": {},
   "outputs": [
    {
     "data": {
      "text/plain": [
       "<tf.Tensor: id=68, shape=(2,), dtype=int32, numpy=array([4, 6])>"
      ]
     },
     "execution_count": 10,
     "metadata": {},
     "output_type": "execute_result"
    }
   ],
   "source": [
    "A_T1 = constant([1,2])\n",
    "B_T1 = constant([3,4])\n",
    "\n",
    "tf.add(A_T1, B_T1)"
   ]
  },
  {
   "cell_type": "code",
   "execution_count": 11,
   "metadata": {},
   "outputs": [
    {
     "data": {
      "text/plain": [
       "<tf.Tensor: id=72, shape=(2, 2), dtype=int32, numpy=\n",
       "array([[ 6,  8],\n",
       "       [10, 12]])>"
      ]
     },
     "execution_count": 11,
     "metadata": {},
     "output_type": "execute_result"
    }
   ],
   "source": [
    "A_T2 = constant([[1,2], [3,4]])\n",
    "B_T2 = constant([[5,6], [7,8]])\n",
    "\n",
    "tf.add(A_T2, B_T2)"
   ]
  },
  {
   "cell_type": "code",
   "execution_count": 13,
   "metadata": {},
   "outputs": [
    {
     "name": "stdout",
     "output_type": "stream",
     "text": [
      "<class 'tensorflow.python.framework.ops.EagerTensor'>\n",
      "<class 'numpy.ndarray'>\n",
      "<class 'numpy.ndarray'>\n"
     ]
    }
   ],
   "source": [
    "import tensorflow as tf\n",
    "import numpy as np\n",
    "\n",
    "tf.enable_eager_execution()\n",
    "\n",
    "x = tf.constant([1., 2.])\n",
    "print(type(x))            # <type 'EagerTensor'>\n",
    "print(type(x.numpy()))    # <type 'numpy.ndarray'>\n",
    "print(type(np.array(x)))  # <type 'numpy.ndarray'>"
   ]
  },
  {
   "cell_type": "code",
   "execution_count": 14,
   "metadata": {},
   "outputs": [
    {
     "data": {
      "text/plain": [
       "<tf.Tensor: id=74, shape=(2,), dtype=float32, numpy=array([1., 2.], dtype=float32)>"
      ]
     },
     "execution_count": 14,
     "metadata": {},
     "output_type": "execute_result"
    }
   ],
   "source": [
    "x"
   ]
  }
 ],
 "metadata": {
  "kernelspec": {
   "display_name": "Python 3",
   "language": "python",
   "name": "python3"
  },
  "language_info": {
   "codemirror_mode": {
    "name": "ipython",
    "version": 3
   },
   "file_extension": ".py",
   "mimetype": "text/x-python",
   "name": "python",
   "nbconvert_exporter": "python",
   "pygments_lexer": "ipython3",
   "version": "3.6.7"
  },
  "toc": {
   "base_numbering": 1,
   "nav_menu": {},
   "number_sections": true,
   "sideBar": true,
   "skip_h1_title": false,
   "title_cell": "Table of Contents",
   "title_sidebar": "Contents",
   "toc_cell": false,
   "toc_position": {},
   "toc_section_display": true,
   "toc_window_display": false
  }
 },
 "nbformat": 4,
 "nbformat_minor": 2
}
